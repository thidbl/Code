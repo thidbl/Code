{
 "cells": [
  {
   "cell_type": "code",
   "execution_count": 1,
   "metadata": {},
   "outputs": [],
   "source": [
    "import pandas as pd\n",
    "import seaborn as sns\n",
    "import matplotlib.pyplot as plt\n",
    "import numpy as np"
   ]
  },
  {
   "cell_type": "code",
   "execution_count": 58,
   "metadata": {},
   "outputs": [
    {
     "name": "stdout",
     "output_type": "stream",
     "text": [
      "            scientific_name                            park_name  observations\n",
      "0        Vicia benghalensis  Great Smoky Mountains National Park            68\n",
      "1            Neovison vison  Great Smoky Mountains National Park            77\n",
      "2         Prunus subcordata               Yosemite National Park           138\n",
      "3      Abutilon theophrasti                  Bryce National Park            84\n",
      "4  Githopsis specularioides  Great Smoky Mountains National Park            85\n"
     ]
    }
   ],
   "source": [
    "observations_data = pd.read_csv('observations.csv')\n",
    "print(observations.head())\n"
   ]
  },
  {
   "cell_type": "code",
   "execution_count": 38,
   "metadata": {},
   "outputs": [
    {
     "name": "stdout",
     "output_type": "stream",
     "text": [
      "  category                scientific_name  \\\n",
      "0   Mammal  Clethrionomys gapperi gapperi   \n",
      "1   Mammal                      Bos bison   \n",
      "2   Mammal                     Bos taurus   \n",
      "3   Mammal                     Ovis aries   \n",
      "4   Mammal                 Cervus elaphus   \n",
      "\n",
      "                                        common_names conservation_status  \n",
      "0                           Gapper's Red-Backed Vole                 NaN  \n",
      "1                              American Bison, Bison                 NaN  \n",
      "2  Aurochs, Aurochs, Domestic Cattle (Feral), Dom...                 NaN  \n",
      "3  Domestic Sheep, Mouflon, Red Sheep, Sheep (Feral)                 NaN  \n",
      "4                                      Wapiti Or Elk                 NaN  \n"
     ]
    }
   ],
   "source": [
    "species_info = pd.read_csv('species_info.csv')\n",
    "print(species_info.head())"
   ]
  },
  {
   "cell_type": "markdown",
   "metadata": {},
   "source": [
    "Questions\n",
    "What is the distribution of conservation_status for animals?\n",
    "Are certain types of species more likely to be endangered?\n",
    "Are the differences between species and their conservation status significant?\n",
    "Which species were spotted the most at each park?"
   ]
  },
  {
   "cell_type": "code",
   "execution_count": 30,
   "metadata": {},
   "outputs": [
    {
     "name": "stdout",
     "output_type": "stream",
     "text": [
      "            category                   scientific_name  \\\n",
      "7             Mammal                     Canis latrans   \n",
      "8             Mammal                       Canis lupus   \n",
      "9             Mammal                       Canis rufus   \n",
      "29            Mammal                  Eptesicus fuscus   \n",
      "30            Mammal         Lasionycteris noctivagans   \n",
      "...              ...                               ...   \n",
      "5302  Vascular Plant             Callitriche marginata   \n",
      "5399  Vascular Plant  Camissonia sierrae ssp. alticola   \n",
      "5426  Vascular Plant                Epilobium oreganum   \n",
      "5436  Vascular Plant              Botrychium ascendens   \n",
      "5676  Vascular Plant                  Romneya coulteri   \n",
      "\n",
      "                                           common_names conservation_status  \n",
      "7                                                Coyote  Species of Concern  \n",
      "8                                             Gray Wolf          Endangered  \n",
      "9                                              Red Wolf          Endangered  \n",
      "29                                        Big Brown Bat  Species of Concern  \n",
      "30                                    Silver-Haired Bat  Species of Concern  \n",
      "...                                                 ...                 ...  \n",
      "5302                              Winged Water-Starwort  Species of Concern  \n",
      "5399  Mono Hot Springs Evening Primrose, Mono Hot Sp...  Species of Concern  \n",
      "5426            Grants Pass Willowherb, Oregon Fireweed  Species of Concern  \n",
      "5436            Trianglelobe Moonwort, Upswept Moonwort  Species of Concern  \n",
      "5676                           Coulter's Matilija Poppy  Species of Concern  \n",
      "\n",
      "[191 rows x 4 columns]\n"
     ]
    },
    {
     "data": {
      "image/png": "[encoded data removed]",
      "text/plain": [
       "<Figure size 432x288 with 1 Axes>"
      ]
     },
     "metadata": {
      "needs_background": "light"
     },
     "output_type": "display_data"
    }
   ],
   "source": [
    "species_info = species_info.dropna()\n",
    "print(species_info)\n",
    "\n",
    "sns.countplot(x = \"category\", data = species_info, palette = 'winter', hue = \"conservation_status\")\n",
    "plt.xticks(rotation = 30, fontsize = 8)\n",
    "plt.title('Conservation status of animals')\n",
    "plt.xlabel('Category')\n",
    "plt.ylabel('No. of species')\n",
    "plt.show()"
   ]
  },
  {
   "cell_type": "code",
   "execution_count": 68,
   "metadata": {},
   "outputs": [
    {
     "name": "stdout",
     "output_type": "stream",
     "text": [
      "Great Smoky Mountains National Park    5824\n",
      "Yosemite National Park                 5824\n",
      "Bryce National Park                    5824\n",
      "Yellowstone National Park              5824\n",
      "Name: park_name, dtype: int64\n"
     ]
    }
   ],
   "source": [
    "count_park = observations_data['park_name'].value_counts()\n",
    "print(count_park)"
   ]
  },
  {
   "cell_type": "code",
   "execution_count": 85,
   "metadata": {},
   "outputs": [
    {
     "name": "stdout",
     "output_type": "stream",
     "text": [
      "                           scientific_name               park_name  \\\n",
      "4968                         Abies bifolia     Bryce National Park   \n",
      "8170                        Abies concolor     Bryce National Park   \n",
      "2014                         Abies fraseri     Bryce National Park   \n",
      "8693                  Abietinella abietina     Bryce National Park   \n",
      "17416                    Abronia ammophila     Bryce National Park   \n",
      "...                                    ...                     ...   \n",
      "17238      Zonotrichia leucophrys gambelii  Yosemite National Park   \n",
      "17330      Zonotrichia leucophrys oriantha  Yosemite National Park   \n",
      "12923                  Zonotrichia querula  Yosemite National Park   \n",
      "5539                  Zygodon viridissimus  Yosemite National Park   \n",
      "16237  Zygodon viridissimus var. rupestris  Yosemite National Park   \n",
      "\n",
      "       observations  \n",
      "4968            109  \n",
      "8170             83  \n",
      "2014            109  \n",
      "8693            101  \n",
      "17416            92  \n",
      "...             ...  \n",
      "17238           169  \n",
      "17330           135  \n",
      "12923           160  \n",
      "5539            159  \n",
      "16237           210  \n",
      "\n",
      "[22164 rows x 3 columns]\n"
     ]
    }
   ],
   "source": [
    "# gsm_park = observations_data.loc[observations_data.groupby(['scientific_name','park_name'])['observations'].idxmax()].reset_index(drop=True)\n",
    "gsm_park = observations_data.loc[observations_data.groupby([\"scientific_name\", \"park_name\"])[\"observations\"].idxmax()]\n",
    "print(gsm_park)\n"
   ]
  },
  {
   "cell_type": "markdown",
   "metadata": {},
   "source": []
  }
 ],
 "metadata": {
  "kernelspec": {
   "display_name": "Python 3",
   "language": "python",
   "name": "python3"
  },
  "language_info": {
   "codemirror_mode": {
    "name": "ipython",
    "version": 3
   },
   "file_extension": ".py",
   "mimetype": "text/x-python",
   "name": "python",
   "nbconvert_exporter": "python",
   "pygments_lexer": "ipython3",
   "version": "3.9.5"
  }
 },
 "nbformat": 4,
 "nbformat_minor": 4
}
